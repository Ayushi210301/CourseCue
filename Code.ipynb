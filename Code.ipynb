{
 "cells": [
  {
   "cell_type": "code",
   "execution_count": 22,
   "metadata": {},
   "outputs": [],
   "source": [
    "import pandas as pd\n",
    "import neattext.functions as nfx\n",
    "from sklearn.feature_extraction.text import TfidfVectorizer\n",
    "from sklearn.metrics.pairwise import cosine_similarity\n",
    "from fuzzywuzzy import fuzz"
   ]
  },
  {
   "cell_type": "code",
   "execution_count": 33,
   "metadata": {},
   "outputs": [],
   "source": [
    "def recommend_course_with_fuzzy(df, course_descriptions, title, num_of_rec, dataset_name):\n",
    "    tfidf_vectorizer = TfidfVectorizer(stop_words='english')\n",
    "    tfidf_matrix = tfidf_vectorizer.fit_transform(course_descriptions)\n",
    "\n",
    "    # Preprocess search title\n",
    "    search_title_processed = nfx.remove_stopwords(nfx.remove_special_characters(title.lower()))\n",
    "\n",
    "    # Convert DataFrame course titles to lowercase for case-insensitive comparison\n",
    "    df['course_title_lower'] = df['course_title'].str.lower()\n",
    "\n",
    "    # Initialize a list to store recommendations\n",
    "    recommendations = []\n",
    "\n",
    "    # Iterate through each course title and calculate the similarity score\n",
    "    for i, course_title in enumerate(df['course_title_lower']):\n",
    "        course_title_processed = nfx.remove_stopwords(nfx.remove_special_characters(course_title))\n",
    "\n",
    "        # Calculate Levenshtein distance-based similarity score\n",
    "        similarity_score = fuzz.token_set_ratio(search_title_processed, course_title_processed) / 100.0\n",
    "        \n",
    "        # Append course title, similarity score, and dataset name to recommendations list\n",
    "        recommendations.append((df.iloc[i]['course_title'], similarity_score ,dataset_name))\n",
    "\n",
    "    # Sort recommendations based on similarity score in descending order\n",
    "    recommendations.sort(key=lambda x: x[1], reverse=True)\n",
    "\n",
    "    # Remove the temporary lowercase column\n",
    "    df.drop(columns=['course_title_lower'], inplace=True)\n",
    "\n",
    "    # Convert recommendations list to DataFrame\n",
    "    recommended_courses_df = pd.DataFrame(recommendations, columns=['course_title', 'similarity_score', 'dataset_name'])\n",
    "\n",
    "    # Filter recommendations based on the specified similarity score threshold\n",
    "    recommended_courses_df = recommended_courses_df[recommended_courses_df['similarity_score'] >= 0.8]\n",
    "\n",
    "    # Select top 10 recommendations\n",
    "    recommended_courses_df = recommended_courses_df.head(num_of_rec)\n",
    "\n",
    "    return recommended_courses_df"
   ]
  },
  {
   "cell_type": "code",
   "execution_count": 34,
   "metadata": {},
   "outputs": [],
   "source": [
    "def load_and_preprocess_data(csv_file_path):\n",
    "    df = pd.read_csv(csv_file_path)\n",
    "    df['clean_course_title'] = df['course_title'].apply(nfx.remove_stopwords)\n",
    "    df['clean_course_title'] = df['clean_course_title'].apply(nfx.remove_special_characters)\n",
    "    return df"
   ]
  },
  {
   "cell_type": "code",
   "execution_count": 35,
   "metadata": {},
   "outputs": [],
   "source": [
    "df1 = load_and_preprocess_data(r\"C:\\Users\\HP\\Desktop\\my-mantine-app\\Udemy_courses.csv\")\n",
    "\n",
    "# Load and preprocess second dataset\n",
    "df2 = load_and_preprocess_data(r\"C:\\Users\\HP\\Desktop\\my-mantine-app\\coursera_courses.csv\")"
   ]
  },
  {
   "cell_type": "code",
   "execution_count": 38,
   "metadata": {},
   "outputs": [
    {
     "name": "stdout",
     "output_type": "stream",
     "text": [
      "Recommendations with similarity score >= 0.8:\n",
      "                                         course_title  similarity_score  \\\n",
      "0                         Web Programming with Python               1.0   \n",
      "1                  Pythonic Python Part I: The Basics               1.0   \n",
      "2           The Ultimate Python Programming Tutorial                1.0   \n",
      "3     Learn Python GUI programming using Qt framework               1.0   \n",
      "4                    Python Programming for Beginners               1.0   \n",
      "5   Coding for Entrepreneurs: Learn Python, Django...               1.0   \n",
      "6                                  Python for Rookies               1.0   \n",
      "7   Python Programming: Build Matchmaking Website ...               1.0   \n",
      "8   Python Programming: Create an Digital Marketpl...               1.0   \n",
      "9                    Learn Python Django From Scratch               1.0   \n",
      "10                   Applied Data Science with Python               1.0   \n",
      "11           Automate Cybersecurity Tasks with Python               1.0   \n",
      "12                             Crash Course on Python               1.0   \n",
      "13                          Data Analysis with Python               1.0   \n",
      "14      Data Science Fundamentals with Python and SQL               1.0   \n",
      "15                     Data Visualization with Python               1.0   \n",
      "16     Databases and SQL for Data Science with Python               1.0   \n",
      "17   Developing AI Applications with Python and Flask               1.0   \n",
      "18     Expressway to Data Science: Python Programming               1.0   \n",
      "19                            Get Started with Python               1.0   \n",
      "\n",
      "   dataset_name  \n",
      "0         Udemy  \n",
      "1         Udemy  \n",
      "2         Udemy  \n",
      "3         Udemy  \n",
      "4         Udemy  \n",
      "5         Udemy  \n",
      "6         Udemy  \n",
      "7         Udemy  \n",
      "8         Udemy  \n",
      "9         Udemy  \n",
      "10     Coursera  \n",
      "11     Coursera  \n",
      "12     Coursera  \n",
      "13     Coursera  \n",
      "14     Coursera  \n",
      "15     Coursera  \n",
      "16     Coursera  \n",
      "17     Coursera  \n",
      "18     Coursera  \n",
      "19     Coursera  \n"
     ]
    }
   ],
   "source": [
    "title = \"python\"  # Title of the course you want recommendations for (case-insensitive)\n",
    "num_of_rec = 10  # Number of recommendations\n",
    "\n",
    "# Perform recommendation for the first dataset using fuzzy matching\n",
    "recommended_courses_df1 = recommend_course_with_fuzzy(df1, df1['course_title'].tolist(), title, num_of_rec, \"Udemy\")\n",
    "\n",
    "# Perform recommendation for the second dataset using fuzzy matching\n",
    "recommended_courses_df2 = recommend_course_with_fuzzy(df2, df2['course_title'].tolist(), title, num_of_rec, \"Coursera\")\n",
    "\n",
    "# Concatenate both recommendation DataFrames\n",
    "all_recommendations = pd.concat([recommended_courses_df1, recommended_courses_df2], ignore_index=True)\n",
    "\n",
    "print(\"Recommendations with similarity score >= 0.8:\")\n",
    "print(all_recommendations)"
   ]
  }
 ],
 "metadata": {
  "kernelspec": {
   "display_name": "Python 3",
   "language": "python",
   "name": "python3"
  },
  "language_info": {
   "codemirror_mode": {
    "name": "ipython",
    "version": 3
   },
   "file_extension": ".py",
   "mimetype": "text/x-python",
   "name": "python",
   "nbconvert_exporter": "python",
   "pygments_lexer": "ipython3",
   "version": "3.12.2"
  }
 },
 "nbformat": 4,
 "nbformat_minor": 2
}
