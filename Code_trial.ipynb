{
 "cells": [
  {
   "cell_type": "code",
   "execution_count": 2,
   "metadata": {},
   "outputs": [
    {
     "name": "stderr",
     "output_type": "stream",
     "text": [
      "c:\\Users\\HP\\AppData\\Local\\Programs\\Python\\Python312\\Lib\\site-packages\\fuzzywuzzy\\fuzz.py:11: UserWarning: Using slow pure-python SequenceMatcher. Install python-Levenshtein to remove this warning\n",
      "  warnings.warn('Using slow pure-python SequenceMatcher. Install python-Levenshtein to remove this warning')\n"
     ]
    }
   ],
   "source": [
    "import pandas as pd\n",
    "import neattext.functions as nfx\n",
    "from sklearn.feature_extraction.text import TfidfVectorizer\n",
    "from sklearn.metrics.pairwise import cosine_similarity\n",
    "from fuzzywuzzy import fuzz\n"
   ]
  },
  {
   "cell_type": "code",
   "execution_count": 3,
   "metadata": {},
   "outputs": [],
   "source": [
    "def recommend_course_with_fuzzy(df, course_descriptions, title, num_of_rec, dataset_name):\n",
    "    tfidf_vectorizer = TfidfVectorizer(stop_words='english')\n",
    "    tfidf_matrix = tfidf_vectorizer.fit_transform(course_descriptions)\n",
    "\n",
    "    # Preprocess search title\n",
    "    search_title_processed = nfx.remove_stopwords(nfx.remove_special_characters(title.lower()))\n",
    "\n",
    "    # Convert DataFrame course titles to lowercase for case-insensitive comparison\n",
    "    df['course_title_lower'] = df['course_title'].str.lower()\n",
    "\n",
    "    # Initialize a list to store recommendations\n",
    "    recommendations = []\n",
    "\n",
    "    # Iterate through each course title and calculate the similarity score\n",
    "    for i, course_title in enumerate(df['course_title_lower']):\n",
    "        course_title_processed = nfx.remove_stopwords(nfx.remove_special_characters(course_title))\n",
    "\n",
    "        # Calculate Levenshtein distance-based similarity score\n",
    "        similarity_score = fuzz.token_set_ratio(search_title_processed, course_title_processed) / 100.0\n",
    "        \n",
    "        # Append course title, similarity score, and dataset name to recommendations list\n",
    "        recommendations.append((df.iloc[i]['course_title'], similarity_score ,dataset_name))\n",
    "\n",
    "    # Sort recommendations based on similarity score in descending order\n",
    "    recommendations.sort(key=lambda x: x[1], reverse=True)\n",
    "\n",
    "    # Remove the temporary lowercase column\n",
    "    df.drop(columns=['course_title_lower'], inplace=True)\n",
    "    #df.drop(columns=['similarity_score'], inplace=True)\n",
    "\n",
    "    # Convert recommendations list to DataFrame\n",
    "    recommended_courses_df = pd.DataFrame(recommendations[:num_of_rec], columns=['course_title','similarity_score', 'dataset_name'])\n",
    "\n",
    "    return recommended_courses_df"
   ]
  },
  {
   "cell_type": "code",
   "execution_count": 4,
   "metadata": {},
   "outputs": [],
   "source": [
    "def load_and_preprocess_data(csv_file_path):\n",
    "    df = pd.read_csv(csv_file_path)\n",
    "    df['clean_course_title'] = df['course_title'].apply(nfx.remove_stopwords)\n",
    "    df['clean_course_title'] = df['clean_course_title'].apply(nfx.remove_special_characters)\n",
    "    return df"
   ]
  },
  {
   "cell_type": "code",
   "execution_count": 5,
   "metadata": {},
   "outputs": [],
   "source": [
    "df1 = load_and_preprocess_data(r\"C:\\Users\\HP\\Desktop\\my-mantine-app\\Udemy_courses.csv\")\n",
    "\n",
    "# Load and preprocess second dataset\n",
    "df2 = load_and_preprocess_data(r\"C:\\Users\\HP\\Desktop\\my-mantine-app\\coursera_courses.csv\")"
   ]
  },
  {
   "cell_type": "code",
   "execution_count": 7,
   "metadata": {},
   "outputs": [
    {
     "name": "stdout",
     "output_type": "stream",
     "text": [
      "Recommendations:\n",
      "                                      course_title  similarity_score  \\\n",
      "0                      Web Programming with Python               1.0   \n",
      "1               Pythonic Python Part I: The Basics               1.0   \n",
      "2        The Ultimate Python Programming Tutorial                1.0   \n",
      "3  Learn Python GUI programming using Qt framework               1.0   \n",
      "4                 Python Programming for Beginners               1.0   \n",
      "5                 Applied Data Science with Python               1.0   \n",
      "6         Automate Cybersecurity Tasks with Python               1.0   \n",
      "7                           Crash Course on Python               1.0   \n",
      "8                        Data Analysis with Python               1.0   \n",
      "9    Data Science Fundamentals with Python and SQL               1.0   \n",
      "\n",
      "  dataset_name  \n",
      "0        udemy  \n",
      "1        udemy  \n",
      "2        udemy  \n",
      "3        udemy  \n",
      "4        udemy  \n",
      "5     Coursera  \n",
      "6     Coursera  \n",
      "7     Coursera  \n",
      "8     Coursera  \n",
      "9     Coursera  \n"
     ]
    }
   ],
   "source": [
    "title = \"python\"  # Title of the course you want recommendations for (case-insensitive)\n",
    "num_of_rec = 5  # Number of recommendations\n",
    "\n",
    "# Perform recommendation for the first dataset using fuzzy matching\n",
    "recommended_courses_df1 = recommend_course_with_fuzzy(df1, df1['course_title'].tolist(), title, num_of_rec, \"udemy\")\n",
    "\n",
    "# Perform recommendation for the second dataset using fuzzy matching\n",
    "recommended_courses_df2 = recommend_course_with_fuzzy(df2, df2['course_title'].tolist(), title, num_of_rec, \"Coursera\")\n",
    "\n",
    "# Concatenate both recommendation DataFrames\n",
    "all_recommendations = pd.concat([recommended_courses_df1, recommended_courses_df2], ignore_index=True)\n",
    "\n",
    "print(\"Recommendations:\")\n",
    "print(all_recommendations)"
   ]
  }
 ],
 "metadata": {
  "kernelspec": {
   "display_name": "Python 3",
   "language": "python",
   "name": "python3"
  },
  "language_info": {
   "codemirror_mode": {
    "name": "ipython",
    "version": 3
   },
   "file_extension": ".py",
   "mimetype": "text/x-python",
   "name": "python",
   "nbconvert_exporter": "python",
   "pygments_lexer": "ipython3",
   "version": "3.12.2"
  }
 },
 "nbformat": 4,
 "nbformat_minor": 2
}
