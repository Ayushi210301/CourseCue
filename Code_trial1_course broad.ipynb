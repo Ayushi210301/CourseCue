{
 "cells": [
  {
   "cell_type": "code",
   "execution_count": 1,
   "metadata": {},
   "outputs": [],
   "source": [
    "import pandas as pd\n",
    "import neattext.functions as nfx\n",
    "from sklearn.feature_extraction.text import CountVectorizer,TfidfVectorizer\n",
    "from sklearn.metrics.pairwise import cosine_similarity,linear_kernel"
   ]
  },
  {
   "cell_type": "code",
   "execution_count": 2,
   "metadata": {},
   "outputs": [],
   "source": [
    "df = pd.read_csv(r\"C:\\Users\\HP\\Desktop\\my-mantine-app\\Udemy_courses.csv\")"
   ]
  },
  {
   "cell_type": "code",
   "execution_count": 3,
   "metadata": {},
   "outputs": [],
   "source": [
    "df['clean_course_title'] = df['course_title'].apply(nfx.remove_stopwords)\n",
    "df['clean_course_title'] = df['clean_course_title'].apply(nfx.remove_special_characters)"
   ]
  },
  {
   "cell_type": "code",
   "execution_count": 4,
   "metadata": {},
   "outputs": [],
   "source": [
    "count_vect = CountVectorizer()"
   ]
  },
  {
   "cell_type": "code",
   "execution_count": 5,
   "metadata": {},
   "outputs": [],
   "source": [
    "cv_mat = count_vect.fit_transform(df['clean_course_title'])"
   ]
  },
  {
   "cell_type": "code",
   "execution_count": 6,
   "metadata": {},
   "outputs": [],
   "source": [
    "def recommend_course(df, course_descriptions, title, num_of_rec):\n",
    "    tfidf_vectorizer = TfidfVectorizer(stop_words='english')\n",
    "    tfidf_matrix = tfidf_vectorizer.fit_transform(course_descriptions)\n",
    "\n",
    "    # Convert title and DataFrame course titles to lowercase for case-insensitive comparison\n",
    "    title_lower = title.lower()\n",
    "    df['course_title_lower'] = df['course_title'].str.lower()\n",
    "\n",
    "    try:\n",
    "        # Find the index of the course title (case-insensitive)\n",
    "        course_index = df[df['course_title_lower'] == title_lower].index[0]\n",
    "    except IndexError:\n",
    "        print(f\"Course '{title}' not found in the dataset.\")\n",
    "        return pd.DataFrame(columns=['course_title', 'similarity_score'])  # Return empty DataFrame\n",
    "    finally:\n",
    "        # Remove the temporary lowercase column\n",
    "        df.drop(columns=['course_title_lower'], inplace=True)\n",
    "\n",
    "    similarity_scores = cosine_similarity(tfidf_matrix, tfidf_matrix[course_index])\n",
    "    \n",
    "    sorted_indices = similarity_scores.argsort(axis=0)[::-1].flatten()[1:num_of_rec + 1]\n",
    "    recommendations = [(df.iloc[i]['course_title'], similarity_scores[i][0]) for i in sorted_indices]\n",
    "    \n",
    "    recommended_courses = pd.DataFrame(recommendations, columns=['course_title', 'similarity_score'])\n",
    "    return recommended_courses\n"
   ]
  },
  {
   "cell_type": "code",
   "execution_count": 9,
   "metadata": {},
   "outputs": [],
   "source": [
    "course_descriptions = df['clean_course_title'].tolist()  # Assuming 'clean_course_title' column exists\n",
    "title = \"Autocad\"  # Title of the course you want recommendations for (case-insensitive)\n",
    "num_of_rec = 10"
   ]
  },
  {
   "cell_type": "code",
   "execution_count": 10,
   "metadata": {},
   "outputs": [
    {
     "name": "stdout",
     "output_type": "stream",
     "text": [
      "Course 'Autocad' not found in the dataset.\n",
      "Empty DataFrame\n",
      "Columns: [course_title, similarity_score]\n",
      "Index: []\n"
     ]
    }
   ],
   "source": [
    "recommended_courses = recommend_course(df, course_descriptions, title, num_of_rec)\n",
    "print(recommended_courses)"
   ]
  }
 ],
 "metadata": {
  "kernelspec": {
   "display_name": "Python 3",
   "language": "python",
   "name": "python3"
  },
  "language_info": {
   "codemirror_mode": {
    "name": "ipython",
    "version": 3
   },
   "file_extension": ".py",
   "mimetype": "text/x-python",
   "name": "python",
   "nbconvert_exporter": "python",
   "pygments_lexer": "ipython3",
   "version": "3.12.2"
  }
 },
 "nbformat": 4,
 "nbformat_minor": 2
}
